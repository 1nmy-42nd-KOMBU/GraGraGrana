{
  "cells": [
    {
      "cell_type": "markdown",
      "metadata": {
        "colab_type": "text",
        "id": "view-in-github"
      },
      "source": [
        "<a href=\"https://colab.research.google.com/github/koki0430/SYAKKE/blob/main/Tester.ipynb\" target=\"_parent\"><img src=\"https://colab.research.google.com/assets/colab-badge.svg\" alt=\"Open In Colab\"/></a>"
      ]
    },
    {
      "cell_type": "code",
      "execution_count": null,
      "metadata": {
        "id": "9YrFzWUzKEkL"
      },
      "outputs": [],
      "source": [
        "limit = time.time() + 2.5\n",
        "while limit >= time.time():\n",
        "    print(\"a\")"
      ]
    },
    {
      "cell_type": "markdown",
      "metadata": {
        "id": "oBCpNxikKKoR"
      },
      "source": []
    }
  ],
  "metadata": {
    "colab": {
      "authorship_tag": "ABX9TyPBNnOgKmkbRSKzOsRsaBHf",
      "include_colab_link": true,
      "name": "Tester.ipynb",
      "provenance": []
    },
    "kernelspec": {
      "display_name": "Python 3",
      "name": "python3"
    },
    "language_info": {
      "name": "python"
    }
  },
  "nbformat": 4,
  "nbformat_minor": 0
}
