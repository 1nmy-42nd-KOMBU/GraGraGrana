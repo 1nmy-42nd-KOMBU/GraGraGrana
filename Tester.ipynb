{
  "cells": [
    {
      "cell_type": "markdown",
      "metadata": {
        "id": "view-in-github",
        "colab_type": "text"
      },
      "source": [
        "<a href=\"https://colab.research.google.com/github/koki0430/SYAKKE/blob/main/Tester.ipynb\" target=\"_parent\"><img src=\"https://colab.research.google.com/assets/colab-badge.svg\" alt=\"Open In Colab\"/></a>"
      ]
    },
    {
      "cell_type": "code",
      "execution_count": null,
      "metadata": {
        "id": "9YrFzWUzKEkL"
      },
      "outputs": [],
      "source": [
        "limit = time.time() + 2.5\n",
        "while limit >= time.time():\n",
        "    print(\"a\")"
      ]
    },
    {
      "cell_type": "code",
      "source": [
        "lists = [1,2,3,4,5,6,7,8,9]\n",
        "\n",
        "if all(i >= 1 for i in lists):\n",
        "    print('a')\n",
        "else:\n",
        "    print('n')"
      ],
      "metadata": {
        "colab": {
          "base_uri": "https://localhost:8080/"
        },
        "id": "TOKuIs7cBZOp",
        "outputId": "7cd64d33-ed0b-4a35-ff68-589de747abbf"
      },
      "execution_count": null,
      "outputs": [
        {
          "output_type": "stream",
          "name": "stdout",
          "text": [
            "a\n"
          ]
        }
      ]
    },
    {
      "cell_type": "code",
      "source": [
        "se = [1,2,2]\n",
        "acs(se)\n",
        "\n",
        "def acs(lists):\n",
        "    print(lists)"
      ],
      "metadata": {
        "id": "uefjR38AEfUM"
      },
      "execution_count": null,
      "outputs": []
    },
    {
      "cell_type": "code",
      "source": [
        "print(a())\n",
        "\n",
        "def a():\n",
        "    lists = [1,2,3]\n",
        "    return lists\n",
        "\n"
      ],
      "metadata": {
        "id": "3KtHeL5wIcP1",
        "outputId": "d6b84e40-c7bf-4faa-9555-de4dff66672c",
        "colab": {
          "base_uri": "https://localhost:8080/"
        }
      },
      "execution_count": null,
      "outputs": [
        {
          "output_type": "stream",
          "name": "stdout",
          "text": [
            "[1, 2, 3]\n"
          ]
        }
      ]
    },
    {
      "cell_type": "code",
      "source": [
        "def test(lis):\n",
        "    print(lis)\n",
        "    print(type(lis))\n",
        "\n",
        "test((1,2,3))"
      ],
      "metadata": {
        "id": "agcBHy49NIAI",
        "outputId": "065c6c1b-c1ba-4462-b6d6-743be8b81a0c",
        "colab": {
          "base_uri": "https://localhost:8080/"
        }
      },
      "execution_count": null,
      "outputs": [
        {
          "output_type": "stream",
          "name": "stdout",
          "text": [
            "(1, 2, 3)\n",
            "<class 'tuple'>\n"
          ]
        }
      ]
    },
    {
      "cell_type": "code",
      "source": [
        "a = 10\n",
        "b = 10\n",
        "print(str(a*b)+\" \"+str(2*a+2*b))"
      ],
      "metadata": {
        "id": "5KtwyeSrdUO0",
        "outputId": "16684b7e-1da8-405b-a490-79ecd612e60d",
        "colab": {
          "base_uri": "https://localhost:8080/"
        }
      },
      "execution_count": 4,
      "outputs": [
        {
          "output_type": "stream",
          "name": "stdout",
          "text": [
            "100 40\n"
          ]
        }
      ]
    },
    {
      "cell_type": "code",
      "source": [
        "\n",
        "class Test():\n",
        "    def tester(self,rty):\n",
        "        print(rty)\n",
        "\n",
        "l = [1,2,3,4]\n",
        "tes = Test()\n",
        "tes.tester(l)\n"
      ],
      "metadata": {
        "id": "kbpK4o2QaLOU",
        "outputId": "9151430e-722d-45b3-eec1-eda388bcb187",
        "colab": {
          "base_uri": "https://localhost:8080/"
        }
      },
      "execution_count": 7,
      "outputs": [
        {
          "output_type": "stream",
          "name": "stdout",
          "text": [
            "[1, 2, 3, 4]\n"
          ]
        }
      ]
    },
    {
      "cell_type": "markdown",
      "metadata": {
        "id": "oBCpNxikKKoR"
      },
      "source": [
        ""
      ]
    }
  ],
  "metadata": {
    "colab": {
      "name": "Tester.ipynb",
      "provenance": [],
      "toc_visible": true,
      "include_colab_link": true
    },
    "kernelspec": {
      "display_name": "Python 3",
      "name": "python3"
    },
    "language_info": {
      "name": "python"
    }
  },
  "nbformat": 4,
  "nbformat_minor": 0
}