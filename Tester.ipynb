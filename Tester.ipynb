{
  "cells": [
    {
      "cell_type": "markdown",
      "metadata": {
        "colab_type": "text",
        "id": "view-in-github"
      },
      "source": [
        "<a href=\"https://colab.research.google.com/github/koki0430/SYAKKE/blob/main/Tester.ipynb\" target=\"_parent\"><img src=\"https://colab.research.google.com/assets/colab-badge.svg\" alt=\"Open In Colab\"/></a>"
      ]
    },
    {
      "cell_type": "code",
      "execution_count": null,
      "metadata": {
        "id": "9YrFzWUzKEkL"
      },
      "outputs": [],
      "source": [
        "import time\n",
        "limit = time.time() + 2.5\n",
        "while limit >= time.time():\n",
        "    print(\"a\")"
      ]
    },
    {
      "cell_type": "code",
      "execution_count": 1,
      "metadata": {},
      "outputs": [
        {
          "name": "stdout",
          "output_type": "stream",
          "text": [
            "49.99755979\n"
          ]
        }
      ],
      "source": [
        "import random\n",
        "total = 0\n",
        "for i in range(100000000):\n",
        "    number1 = random.randint(0,100)\n",
        "    count=0\n",
        "    while number1 != count:\n",
        "        count += 1\n",
        "    total += count\n",
        "\n",
        "print(total/100000000)"
      ]
    },
    {
      "cell_type": "code",
      "execution_count": 7,
      "metadata": {
        "colab": {
          "base_uri": "https://localhost:8080/"
        },
        "id": "GFcFrXZzyx67",
        "outputId": "3dc24d2d-814a-47d2-955d-296fb0b40acc"
      },
      "outputs": [
        {
          "name": "stdout",
          "output_type": "stream",
          "text": [
            "2\n"
          ]
        }
      ],
      "source": [
        "def test(pasr):\n",
        "    return 1 if pasr == 2 else 2\n",
        "\n",
        "print(test(1))"
      ]
    },
    {
      "cell_type": "code",
      "execution_count": null,
      "metadata": {
        "id": "aXhjRAZ9z0nX"
      },
      "outputs": [],
      "source": [
        "class Test:\n",
        "    def __init__(self,port):\n",
        "        self.port = port\n",
        "    \n",
        "    def aaa(self):\n",
        "        print(self.port)\n",
        "\n",
        "test = Test(1)\n",
        "\n",
        "test.aaa(1)"
      ]
    },
    {
      "cell_type": "code",
      "execution_count": null,
      "metadata": {
        "colab": {
          "base_uri": "https://localhost:8080/"
        },
        "id": "TOKuIs7cBZOp",
        "outputId": "7cd64d33-ed0b-4a35-ff68-589de747abbf"
      },
      "outputs": [
        {
          "name": "stdout",
          "output_type": "stream",
          "text": [
            "a\n"
          ]
        }
      ],
      "source": [
        "lists = [1,2,3,4,5,6,7,8,9]\n",
        "\n",
        "if all(i >= 1 for i in lists):\n",
        "    print('a')\n",
        "else:\n",
        "    print('n')"
      ]
    },
    {
      "cell_type": "code",
      "execution_count": null,
      "metadata": {
        "id": "uefjR38AEfUM"
      },
      "outputs": [],
      "source": [
        "se = [1,2,2]\n",
        "acs(se)\n",
        "\n",
        "def acs(lists):\n",
        "    print(lists)"
      ]
    },
    {
      "cell_type": "code",
      "execution_count": null,
      "metadata": {
        "colab": {
          "base_uri": "https://localhost:8080/"
        },
        "id": "3KtHeL5wIcP1",
        "outputId": "d6b84e40-c7bf-4faa-9555-de4dff66672c"
      },
      "outputs": [
        {
          "name": "stdout",
          "output_type": "stream",
          "text": [
            "[1, 2, 3]\n"
          ]
        }
      ],
      "source": [
        "print(a())\n",
        "\n",
        "def a():\n",
        "    lists = [1,2,3]\n",
        "    return lists\n",
        "\n"
      ]
    },
    {
      "cell_type": "code",
      "execution_count": null,
      "metadata": {
        "colab": {
          "base_uri": "https://localhost:8080/"
        },
        "id": "agcBHy49NIAI",
        "outputId": "065c6c1b-c1ba-4462-b6d6-743be8b81a0c"
      },
      "outputs": [
        {
          "name": "stdout",
          "output_type": "stream",
          "text": [
            "(1, 2, 3)\n",
            "<class 'tuple'>\n"
          ]
        }
      ],
      "source": [
        "def test(lis):\n",
        "    print(lis)\n",
        "    print(type(lis))\n",
        "\n",
        "test((1,2,3))"
      ]
    },
    {
      "cell_type": "code",
      "execution_count": null,
      "metadata": {
        "colab": {
          "base_uri": "https://localhost:8080/"
        },
        "id": "5KtwyeSrdUO0",
        "outputId": "16684b7e-1da8-405b-a490-79ecd612e60d"
      },
      "outputs": [
        {
          "name": "stdout",
          "output_type": "stream",
          "text": [
            "100 40\n"
          ]
        }
      ],
      "source": [
        "a = 10\n",
        "b = 10\n",
        "print(str(a*b)+\" \"+str(2*a+2*b))"
      ]
    },
    {
      "cell_type": "code",
      "execution_count": null,
      "metadata": {
        "colab": {
          "base_uri": "https://localhost:8080/"
        },
        "id": "kbpK4o2QaLOU",
        "outputId": "9151430e-722d-45b3-eec1-eda388bcb187"
      },
      "outputs": [
        {
          "name": "stdout",
          "output_type": "stream",
          "text": [
            "[1, 2, 3, 4]\n"
          ]
        }
      ],
      "source": [
        "\n",
        "class Test():\n",
        "    def tester(self,rty):\n",
        "        print(rty)\n",
        "\n",
        "l = [1,2,3,4]\n",
        "tes = Test()\n",
        "tes.tester(l)\n"
      ]
    },
    {
      "cell_type": "markdown",
      "metadata": {
        "id": "oBCpNxikKKoR"
      },
      "source": []
    }
  ],
  "metadata": {
    "colab": {
      "include_colab_link": true,
      "name": "Tester.ipynb",
      "provenance": []
    },
    "kernelspec": {
      "display_name": "Python 3",
      "name": "python3"
    },
    "language_info": {
      "codemirror_mode": {
        "name": "ipython",
        "version": 3
      },
      "file_extension": ".py",
      "mimetype": "text/x-python",
      "name": "python",
      "nbconvert_exporter": "python",
      "pygments_lexer": "ipython3",
      "version": "3.7.6"
    }
  },
  "nbformat": 4,
  "nbformat_minor": 0
}
