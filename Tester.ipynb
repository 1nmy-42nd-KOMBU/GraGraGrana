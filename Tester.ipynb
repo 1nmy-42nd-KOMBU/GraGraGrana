{
  "cells": [
    {
      "cell_type": "markdown",
      "metadata": {
        "id": "view-in-github",
        "colab_type": "text"
      },
      "source": [
        "<a href=\"https://colab.research.google.com/github/koki0430/SYAKKE/blob/main/Tester.ipynb\" target=\"_parent\"><img src=\"https://colab.research.google.com/assets/colab-badge.svg\" alt=\"Open In Colab\"/></a>"
      ]
    },
    {
      "cell_type": "code",
      "execution_count": null,
      "metadata": {
        "id": "9YrFzWUzKEkL"
      },
      "outputs": [],
      "source": [
        "limit = time.time() + 2.5\n",
        "while limit >= time.time():\n",
        "    print(\"a\")"
      ]
    },
    {
      "cell_type": "code",
      "source": [
        "lists = [1,2,3,4,5,6,7,8,9]\n",
        "\n",
        "if all(i >= 1 for i in lists):\n",
        "    print('a')\n",
        "else:\n",
        "    print('n')"
      ],
      "metadata": {
        "colab": {
          "base_uri": "https://localhost:8080/"
        },
        "id": "TOKuIs7cBZOp",
        "outputId": "7cd64d33-ed0b-4a35-ff68-589de747abbf"
      },
      "execution_count": 14,
      "outputs": [
        {
          "output_type": "stream",
          "name": "stdout",
          "text": [
            "a\n"
          ]
        }
      ]
    },
    {
      "cell_type": "code",
      "source": [
        "se = [1,2,2]\n",
        "acs(se)\n",
        "\n",
        "def acs(lists):\n",
        "    print(lists)"
      ],
      "metadata": {
        "id": "uefjR38AEfUM"
      },
      "execution_count": null,
      "outputs": []
    },
    {
      "cell_type": "code",
      "source": [
        "print(a())\n",
        "\n",
        "def a():\n",
        "    lists = [1,2,3]\n",
        "    return lists\n",
        "\n"
      ],
      "metadata": {
        "id": "3KtHeL5wIcP1",
        "outputId": "d6b84e40-c7bf-4faa-9555-de4dff66672c",
        "colab": {
          "base_uri": "https://localhost:8080/"
        }
      },
      "execution_count": 31,
      "outputs": [
        {
          "output_type": "stream",
          "name": "stdout",
          "text": [
            "[1, 2, 3]\n"
          ]
        }
      ]
    },
    {
      "cell_type": "code",
      "source": [
        "def test(lis):\n",
        "    print(lis)\n",
        "    print(type(lis))\n",
        "\n",
        "test((1,2,3))"
      ],
      "metadata": {
        "id": "agcBHy49NIAI",
        "outputId": "065c6c1b-c1ba-4462-b6d6-743be8b81a0c",
        "colab": {
          "base_uri": "https://localhost:8080/"
        }
      },
      "execution_count": 35,
      "outputs": [
        {
          "output_type": "stream",
          "name": "stdout",
          "text": [
            "(1, 2, 3)\n",
            "<class 'tuple'>\n"
          ]
        }
      ]
    },
    {
      "cell_type": "markdown",
      "metadata": {
        "id": "oBCpNxikKKoR"
      },
      "source": [
        ""
      ]
    }
  ],
  "metadata": {
    "colab": {
      "name": "Tester.ipynb",
      "provenance": [],
      "include_colab_link": true
    },
    "kernelspec": {
      "display_name": "Python 3",
      "name": "python3"
    },
    "language_info": {
      "name": "python"
    }
  },
  "nbformat": 4,
  "nbformat_minor": 0
}