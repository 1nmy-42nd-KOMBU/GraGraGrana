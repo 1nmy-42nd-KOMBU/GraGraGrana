{
  "cells": [
    {
      "cell_type": "markdown",
      "metadata": {
        "id": "view-in-github",
        "colab_type": "text"
      },
      "source": [
        "<a href=\"https://colab.research.google.com/github/koki0430/SYAKKE/blob/main/Tester.ipynb\" target=\"_parent\"><img src=\"https://colab.research.google.com/assets/colab-badge.svg\" alt=\"Open In Colab\"/></a>"
      ]
    },
    {
      "cell_type": "code",
      "execution_count": null,
      "metadata": {
        "id": "9YrFzWUzKEkL"
      },
      "outputs": [],
      "source": [
        "limit = time.time() + 2.5\n",
        "while limit >= time.time():\n",
        "    print(\"a\")"
      ]
    },
    {
      "cell_type": "code",
      "source": [
        "lists = [1,2,3,4,5,6,7,8,9]\n",
        "\n",
        "if all(i >= 1 for i in lists):\n",
        "    print('a')\n",
        "else:\n",
        "    print('n')"
      ],
      "metadata": {
        "id": "TOKuIs7cBZOp",
        "outputId": "7cd64d33-ed0b-4a35-ff68-589de747abbf",
        "colab": {
          "base_uri": "https://localhost:8080/"
        }
      },
      "execution_count": 14,
      "outputs": [
        {
          "output_type": "stream",
          "name": "stdout",
          "text": [
            "a\n"
          ]
        }
      ]
    },
    {
      "cell_type": "markdown",
      "metadata": {
        "id": "oBCpNxikKKoR"
      },
      "source": [
        ""
      ]
    }
  ],
  "metadata": {
    "colab": {
      "name": "Tester.ipynb",
      "provenance": [],
      "include_colab_link": true
    },
    "kernelspec": {
      "display_name": "Python 3",
      "name": "python3"
    },
    "language_info": {
      "name": "python"
    }
  },
  "nbformat": 4,
  "nbformat_minor": 0
}