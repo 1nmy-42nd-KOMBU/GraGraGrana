{
 "cells": [
  {
   "cell_type": "markdown",
   "metadata": {},
   "source": [
    "PID制御は変化に対して**ストイックに**反応させる"
   ]
  },
  {
   "cell_type": "markdown",
   "metadata": {},
   "source": [
    "**Steering**  \n",
    "範囲 -100~100  \n",
    "左曲がりが負の値  \n",
    "右曲がりが性の値  "
   ]
  }
 ],
 "metadata": {
  "language_info": {
   "name": "python"
  },
  "orig_nbformat": 4
 },
 "nbformat": 4,
 "nbformat_minor": 2
}
