{
  "cells": [
    {
      "cell_type": "markdown",
      "metadata": {
        "colab_type": "text",
        "id": "view-in-github"
      },
      "source": [
        "<a href=\"https://colab.research.google.com/github/koki0430/SYAKKE/blob/2nd-steering/%E5%82%99%E5%BF%98%E9%8C%B2.ipynb\" target=\"_parent\"><img src=\"https://colab.research.google.com/assets/colab-badge.svg\" alt=\"Open In Colab\"/></a>"
      ]
    },
    {
      "cell_type": "code",
      "execution_count": null,
      "metadata": {
        "id": "JrRLBrbWHo4X"
      },
      "outputs": [],
      "source": [
        "# リストORタプルの条件を満たす要素の個数をカウント\n",
        "l = list(range(-5, 6))\n",
        "print([i < 0 for i in l])\n",
        "# [True, True, True, True, True, False, False, False, False, False, False]\n",
        "\n",
        "print(sum([i < 0 for i in l]))\n",
        "# 5"
      ]
    },
    {
      "cell_type": "code",
      "execution_count": null,
      "metadata": {},
      "outputs": [],
      "source": [
        "# すべての要素が条件に当てはまるかを\n",
        "l = list(range(-5, 6))\n",
        "print(i < 0 for i in l)\n",
        "# True"
      ]
    }
  ],
  "metadata": {
    "colab": {
      "authorship_tag": "ABX9TyPc7L/gs+XVS4IbW4HrmLJp",
      "include_colab_link": true,
      "name": "備忘録.ipynb",
      "provenance": []
    },
    "kernelspec": {
      "display_name": "Python 3",
      "name": "python3"
    },
    "language_info": {
      "name": "python"
    }
  },
  "nbformat": 4,
  "nbformat_minor": 0
}
