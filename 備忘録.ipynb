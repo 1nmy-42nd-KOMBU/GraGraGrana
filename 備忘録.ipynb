{
  "cells": [
    {
      "cell_type": "markdown",
      "metadata": {
        "colab_type": "text",
        "id": "view-in-github"
      },
      "source": [
        "<a href=\"https://colab.research.google.com/github/koki0430/SYAKKE/blob/2nd-steering/%E5%82%99%E5%BF%98%E9%8C%B2.ipynb\" target=\"_parent\"><img src=\"https://colab.research.google.com/assets/colab-badge.svg\" alt=\"Open In Colab\"/></a>"
      ]
    },
    {
      "cell_type": "code",
      "execution_count": null,
      "metadata": {
        "id": "JrRLBrbWHo4X"
      },
      "outputs": [],
      "source": [
        "# リストORタプルの条件を満たす要素の個数をカウント\n",
        "l = list(range(-5, 6))\n",
        "print([i < 0 for i in l])\n",
        "# [True, True, True, True, True, False, False, False, False, False, False]\n",
        "\n",
        "print(sum([i < 0 for i in l]))\n",
        "# 5"
      ]
    },
    {
      "cell_type": "code",
      "execution_count": null,
      "metadata": {},
      "outputs": [],
      "source": [
        "# すべての要素が条件に当てはまるかを\n",
        "l = list(range(-5, 6))\n",
        "print(i < 0 for i in l)\n",
        "# True"
      ]
    },
    {
      "cell_type": "markdown",
      "metadata": {},
      "source": [
        "Also note, that because of latency (I believe due to file I/O), we will have to include a sleep command after each initialization, in order to have the right drivers etc. loaded. My experience is that if you are running the programs directly from a SSH terminal or on the EV3 itself, 500 ms is enough. Running the programs from Visual Studio Code requires 1000 ms (1 second).\n",
        "\n",
        "また、レイテンシー（ファイルI/Oによるものと思われます）のため、正しいドライバなどをロードするために、各初期化の後にスリープコマンドを含める必要があることに留意してください。私の経験では、SSHターミナルやEV3本体から直接プログラムを実行する場合は、500msで十分です。Visual Studio Codeからプログラムを実行する場合は、1000ms（1秒）必要です。"
      ]
    },
    {
      "cell_type": "markdown",
      "metadata": {},
      "source": [
        "#### max is about 80 with white paper, 3mm separation \n",
        "#### and 5 with black plastic, same separation"
      ]
    }
  ],
  "metadata": {
    "colab": {
      "authorship_tag": "ABX9TyPc7L/gs+XVS4IbW4HrmLJp",
      "include_colab_link": true,
      "name": "備忘録.ipynb",
      "provenance": []
    },
    "kernelspec": {
      "display_name": "Python 3",
      "name": "python3"
    },
    "language_info": {
      "name": "python"
    }
  },
  "nbformat": 4,
  "nbformat_minor": 0
}
